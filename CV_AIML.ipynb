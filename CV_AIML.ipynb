{
  "nbformat": 4,
  "nbformat_minor": 0,
  "metadata": {
    "colab": {
      "name": "Case Study Week 2 CV_AIML.ipynb",
      "provenance": [],
      "collapsed_sections": []
    },
    "kernelspec": {
      "display_name": "Python 3",
      "name": "python3"
    },
    "language_info": {
      "name": "python"
    }
  },
  "cells": [
    {
      "cell_type": "markdown",
      "metadata": {
        "id": "IHiEaguNR4gq"
      },
      "source": [
        "# Dog breed classification"
      ]
    },
    {
      "cell_type": "markdown",
      "metadata": {
        "id": "XgYl4943R-O-"
      },
      "source": [
        "## Libraries"
      ]
    },
    {
      "cell_type": "code",
      "metadata": {
        "colab": {
          "base_uri": "https://localhost:8080/"
        },
        "id": "ICE8jKwvFQcz",
        "outputId": "038925ad-6be5-4bf0-c1a7-7167d995594a"
      },
      "source": [
        "import os\n",
        "import numpy as np\n",
        "import pandas as pd\n",
        "import matplotlib.pyplot as plt\n",
        "\n",
        "import random\n",
        "random.seed(0)\n",
        "\n",
        "import warnings\n",
        "warnings.filterwarnings('ignore')\n",
        "\n",
        "from google.colab import drive\n",
        "drive.mount('/content/drive')"
      ],
      "execution_count": null,
      "outputs": [
        {
          "output_type": "stream",
          "name": "stdout",
          "text": [
            "Mounted at /content/drive\n"
          ]
        }
      ]
    },
    {
      "cell_type": "markdown",
      "metadata": {
        "id": "277fqYZHTJgM"
      },
      "source": [
        "Let's extract train and test zip files"
      ]
    },
    {
      "cell_type": "code",
      "metadata": {
        "id": "PXxSU4bFScjt"
      },
      "source": [
        "path = \"/content/drive/My Drive/Computer Vision/cvweek2data/\""
      ],
      "execution_count": null,
      "outputs": []
    },
    {
      "cell_type": "code",
      "metadata": {
        "id": "rHW9BJs-Ts_U"
      },
      "source": [
        "from zipfile import ZipFile\n",
        "with ZipFile(path+\"train.zip\",\"r\") as z:\n",
        "  z.extractall()"
      ],
      "execution_count": null,
      "outputs": []
    },
    {
      "cell_type": "code",
      "metadata": {
        "id": "7Tx6bBpTVCqQ"
      },
      "source": [
        "from zipfile import ZipFile\n",
        "with ZipFile(path+\"test.zip\",\"r\") as z:\n",
        "  z.extractall()"
      ],
      "execution_count": null,
      "outputs": []
    },
    {
      "cell_type": "code",
      "metadata": {
        "id": "ooHTYakaWJIG"
      },
      "source": [
        "from zipfile import ZipFile\n",
        "with ZipFile(path+\"sample_submission.csv.zip\",\"r\") as z:\n",
        "  z.extractall()"
      ],
      "execution_count": null,
      "outputs": []
    },
    {
      "cell_type": "code",
      "metadata": {
        "id": "CcfGqt94WXQz"
      },
      "source": [
        "from zipfile import ZipFile\n",
        "with ZipFile(path+\"labels.csv.zip\",\"r\") as z:\n",
        "  z.extractall()"
      ],
      "execution_count": null,
      "outputs": []
    },
    {
      "cell_type": "code",
      "metadata": {
        "colab": {
          "base_uri": "https://localhost:8080/"
        },
        "id": "SNE6ZaGKWci-",
        "outputId": "b563004a-881f-44ed-9ba5-4463afb1a69d"
      },
      "source": [
        "!ls"
      ],
      "execution_count": null,
      "outputs": [
        {
          "output_type": "stream",
          "name": "stdout",
          "text": [
            "drive  labels.csv  sample_data\tsample_submission.csv  test  train\n"
          ]
        }
      ]
    },
    {
      "cell_type": "code",
      "metadata": {
        "colab": {
          "base_uri": "https://localhost:8080/",
          "height": 206
        },
        "id": "df3V2nnjWdkW",
        "outputId": "88e53283-6186-41d0-d397-396d4eb91c9d"
      },
      "source": [
        "labels = pd.read_csv(\"./labels.csv\")\n",
        "labels.head()"
      ],
      "execution_count": null,
      "outputs": [
        {
          "output_type": "execute_result",
          "data": {
            "text/html": [
              "<div>\n",
              "<style scoped>\n",
              "    .dataframe tbody tr th:only-of-type {\n",
              "        vertical-align: middle;\n",
              "    }\n",
              "\n",
              "    .dataframe tbody tr th {\n",
              "        vertical-align: top;\n",
              "    }\n",
              "\n",
              "    .dataframe thead th {\n",
              "        text-align: right;\n",
              "    }\n",
              "</style>\n",
              "<table border=\"1\" class=\"dataframe\">\n",
              "  <thead>\n",
              "    <tr style=\"text-align: right;\">\n",
              "      <th></th>\n",
              "      <th>id</th>\n",
              "      <th>breed</th>\n",
              "    </tr>\n",
              "  </thead>\n",
              "  <tbody>\n",
              "    <tr>\n",
              "      <th>0</th>\n",
              "      <td>000bec180eb18c7604dcecc8fe0dba07</td>\n",
              "      <td>boston_bull</td>\n",
              "    </tr>\n",
              "    <tr>\n",
              "      <th>1</th>\n",
              "      <td>001513dfcb2ffafc82cccf4d8bbaba97</td>\n",
              "      <td>dingo</td>\n",
              "    </tr>\n",
              "    <tr>\n",
              "      <th>2</th>\n",
              "      <td>001cdf01b096e06d78e9e5112d419397</td>\n",
              "      <td>pekinese</td>\n",
              "    </tr>\n",
              "    <tr>\n",
              "      <th>3</th>\n",
              "      <td>00214f311d5d2247d5dfe4fe24b2303d</td>\n",
              "      <td>bluetick</td>\n",
              "    </tr>\n",
              "    <tr>\n",
              "      <th>4</th>\n",
              "      <td>0021f9ceb3235effd7fcde7f7538ed62</td>\n",
              "      <td>golden_retriever</td>\n",
              "    </tr>\n",
              "  </tbody>\n",
              "</table>\n",
              "</div>"
            ],
            "text/plain": [
              "                                 id             breed\n",
              "0  000bec180eb18c7604dcecc8fe0dba07       boston_bull\n",
              "1  001513dfcb2ffafc82cccf4d8bbaba97             dingo\n",
              "2  001cdf01b096e06d78e9e5112d419397          pekinese\n",
              "3  00214f311d5d2247d5dfe4fe24b2303d          bluetick\n",
              "4  0021f9ceb3235effd7fcde7f7538ed62  golden_retriever"
            ]
          },
          "metadata": {},
          "execution_count": 8
        }
      ]
    },
    {
      "cell_type": "markdown",
      "metadata": {
        "id": "UHTDFkQbcTMq"
      },
      "source": [
        "We will now look at the distribution of the breeds"
      ]
    },
    {
      "cell_type": "code",
      "metadata": {
        "colab": {
          "base_uri": "https://localhost:8080/"
        },
        "id": "8uQ-SRS2cKRO",
        "outputId": "1fffed2f-37b9-4aa9-b363-9e9e6f528160"
      },
      "source": [
        "labels['breed'].value_counts()"
      ],
      "execution_count": null,
      "outputs": [
        {
          "output_type": "execute_result",
          "data": {
            "text/plain": [
              "scottish_deerhound      126\n",
              "maltese_dog             117\n",
              "afghan_hound            116\n",
              "entlebucher             115\n",
              "bernese_mountain_dog    114\n",
              "                       ... \n",
              "brabancon_griffon        67\n",
              "komondor                 67\n",
              "golden_retriever         67\n",
              "eskimo_dog               66\n",
              "briard                   66\n",
              "Name: breed, Length: 120, dtype: int64"
            ]
          },
          "metadata": {},
          "execution_count": 9
        }
      ]
    },
    {
      "cell_type": "markdown",
      "metadata": {
        "id": "YSxfa6-tc-8U"
      },
      "source": [
        "We will now use label encoder and to categorical funtion"
      ]
    },
    {
      "cell_type": "code",
      "metadata": {
        "colab": {
          "base_uri": "https://localhost:8080/"
        },
        "id": "G8izzXMqcX1k",
        "outputId": "df69f3e3-2119-45fa-ed5b-d782cd903f45"
      },
      "source": [
        "from sklearn.preprocessing import LabelEncoder\n",
        "label_encoder = LabelEncoder()\n",
        "integer_encoded = label_encoder.fit_transform(labels['breed'])\n",
        "print(integer_encoded)"
      ],
      "execution_count": null,
      "outputs": [
        {
          "output_type": "stream",
          "name": "stdout",
          "text": [
            "[19 37 85 ...  3 75 28]\n"
          ]
        }
      ]
    },
    {
      "cell_type": "code",
      "metadata": {
        "id": "06w-p0radW1R"
      },
      "source": [
        "import tensorflow\n",
        "y = tensorflow.keras.utils.to_categorical(integer_encoded,dtype='int')"
      ],
      "execution_count": null,
      "outputs": []
    },
    {
      "cell_type": "code",
      "metadata": {
        "colab": {
          "base_uri": "https://localhost:8080/"
        },
        "id": "Fx_NYGqCdveb",
        "outputId": "72029247-a951-495e-ee03-4f0940f33319"
      },
      "source": [
        "y[0]"
      ],
      "execution_count": null,
      "outputs": [
        {
          "output_type": "execute_result",
          "data": {
            "text/plain": [
              "array([0, 0, 0, 0, 0, 0, 0, 0, 0, 0, 0, 0, 0, 0, 0, 0, 0, 0, 0, 1, 0, 0,\n",
              "       0, 0, 0, 0, 0, 0, 0, 0, 0, 0, 0, 0, 0, 0, 0, 0, 0, 0, 0, 0, 0, 0,\n",
              "       0, 0, 0, 0, 0, 0, 0, 0, 0, 0, 0, 0, 0, 0, 0, 0, 0, 0, 0, 0, 0, 0,\n",
              "       0, 0, 0, 0, 0, 0, 0, 0, 0, 0, 0, 0, 0, 0, 0, 0, 0, 0, 0, 0, 0, 0,\n",
              "       0, 0, 0, 0, 0, 0, 0, 0, 0, 0, 0, 0, 0, 0, 0, 0, 0, 0, 0, 0, 0, 0,\n",
              "       0, 0, 0, 0, 0, 0, 0, 0, 0, 0])"
            ]
          },
          "metadata": {},
          "execution_count": 12
        }
      ]
    },
    {
      "cell_type": "code",
      "metadata": {
        "colab": {
          "base_uri": "https://localhost:8080/"
        },
        "id": "NjvIlkdyhJKz",
        "outputId": "ae8a51d1-b570-470d-c0b9-c32a69722dff"
      },
      "source": [
        "from tqdm import tqdm\n",
        "import cv2\n",
        "x_feature = []\n",
        "y_feature = []\n",
        "\n",
        "i = 0\n",
        "for f,img in tqdm(labels.values):\n",
        "  train_img = cv2.imread('./train/{}.jpg'.format(f),0)\n",
        "  label = y[i]\n",
        "  train_img_resize = cv2.resize(train_img,(128,128))\n",
        "  x_feature.append(train_img_resize)\n",
        "  y_feature.append(label)\n",
        "  i+=1"
      ],
      "execution_count": null,
      "outputs": [
        {
          "output_type": "stream",
          "name": "stderr",
          "text": [
            "100%|██████████| 10222/10222 [00:16<00:00, 624.12it/s]\n"
          ]
        }
      ]
    },
    {
      "cell_type": "code",
      "metadata": {
        "colab": {
          "base_uri": "https://localhost:8080/"
        },
        "id": "7bvSk910jz0U",
        "outputId": "c61921eb-d8d1-416a-8904-274ac41c94da"
      },
      "source": [
        "x_train_data = np.array(x_feature,np.float32)/255.\n",
        "print(x_train_data.shape)"
      ],
      "execution_count": null,
      "outputs": [
        {
          "output_type": "stream",
          "name": "stdout",
          "text": [
            "(10222, 128, 128)\n"
          ]
        }
      ]
    },
    {
      "cell_type": "code",
      "metadata": {
        "colab": {
          "base_uri": "https://localhost:8080/"
        },
        "id": "8TyluI8kkh0M",
        "outputId": "802fe1ad-957b-465e-e0a6-79246c78726d"
      },
      "source": [
        "x_train_data = np.expand_dims(x_train_data,axis=3)\n",
        "print(x_train_data.shape)"
      ],
      "execution_count": null,
      "outputs": [
        {
          "output_type": "stream",
          "name": "stdout",
          "text": [
            "(10222, 128, 128, 1)\n"
          ]
        }
      ]
    },
    {
      "cell_type": "code",
      "metadata": {
        "colab": {
          "base_uri": "https://localhost:8080/"
        },
        "id": "e9xsSqY1mcPj",
        "outputId": "2e6ab29c-c39f-4ccb-ce00-517af546f978"
      },
      "source": [
        "y_train_data = np.array(y_feature)\n",
        "print(y_train_data.shape)"
      ],
      "execution_count": null,
      "outputs": [
        {
          "output_type": "stream",
          "name": "stdout",
          "text": [
            "(10222, 120)\n"
          ]
        }
      ]
    },
    {
      "cell_type": "markdown",
      "metadata": {
        "id": "eML5Wzu9-AN5"
      },
      "source": [
        "Let's split the data into train and test"
      ]
    },
    {
      "cell_type": "code",
      "metadata": {
        "colab": {
          "base_uri": "https://localhost:8080/"
        },
        "id": "AR3cYcVcmw02",
        "outputId": "5569f3cf-833a-4600-cf8d-9cf45e25d963"
      },
      "source": [
        "from sklearn.model_selection import train_test_split\n",
        "\n",
        "x_train, x_val, y_train, y_val = train_test_split(x_train_data, y_train_data, test_size=0.2, random_state=2)\n",
        "print(x_train.shape)\n",
        "print(x_val.shape)"
      ],
      "execution_count": null,
      "outputs": [
        {
          "output_type": "stream",
          "name": "stdout",
          "text": [
            "(8177, 128, 128, 1)\n",
            "(2045, 128, 128, 1)\n"
          ]
        }
      ]
    },
    {
      "cell_type": "markdown",
      "metadata": {
        "id": "1ZJu70rmF_KY"
      },
      "source": [
        "Let's import the relevant libraries"
      ]
    },
    {
      "cell_type": "code",
      "metadata": {
        "id": "7iUEtckd_qqT"
      },
      "source": [
        "from tensorflow.keras.models import Sequential\n",
        "from tensorflow.keras.layers import Dense,Dropout,Conv2D,MaxPooling2D,Flatten,GlobalAveragePooling2D"
      ],
      "execution_count": null,
      "outputs": []
    },
    {
      "cell_type": "markdown",
      "metadata": {
        "id": "zYmZ_CYDGxCQ"
      },
      "source": [
        "Let's now define model and layers"
      ]
    },
    {
      "cell_type": "code",
      "metadata": {
        "id": "rKXjb0joGjUp"
      },
      "source": [
        "img_rows = 128\n",
        "img_cols = 128\n",
        "num_channel = 1"
      ],
      "execution_count": null,
      "outputs": []
    },
    {
      "cell_type": "code",
      "metadata": {
        "id": "4HV1nqaOHbxW"
      },
      "source": [
        "model = Sequential()\n",
        "\n",
        "model.add(Conv2D(32,kernel_size=3,activation='relu',input_shape=(img_rows,img_cols,num_channel)))\n",
        "model.add(MaxPooling2D(pool_size=3))\n",
        "model.add(Dropout(0.2))\n",
        "\n",
        "model.add(Conv2D(64,kernel_size=3,activation='relu',padding='same'))\n",
        "model.add(MaxPooling2D(pool_size=2))\n",
        "model.add(Dropout(0.2))\n",
        "\n",
        "model.add(Conv2D(128,kernel_size=3,activation='relu',padding='same'))\n",
        "model.add(MaxPooling2D(pool_size=2))\n",
        "model.add(Dropout(0.2))\n",
        "\n",
        "model.add(Conv2D(128,kernel_size=3,activation='relu',padding='same'))\n",
        "\n",
        "\n",
        "model.add(Flatten())\n",
        "\n",
        "model.add(Dense(500,activation='relu'))\n",
        "model.add(Dropout(0.2))\n",
        "\n",
        "model.add(Dense(120,activation='softmax'))"
      ],
      "execution_count": null,
      "outputs": []
    },
    {
      "cell_type": "markdown",
      "metadata": {
        "id": "OEKDbuFsJ1Xc"
      },
      "source": [
        "Let's compile and summarize the model"
      ]
    },
    {
      "cell_type": "code",
      "metadata": {
        "colab": {
          "base_uri": "https://localhost:8080/"
        },
        "id": "fEpnxjZQJpn1",
        "outputId": "cf8c273c-021f-4556-a578-c7f7bde29fa5"
      },
      "source": [
        "from tensorflow.keras import regularizers,optimizers\n",
        "\n",
        "optimizer = optimizers.Adam(lr=0.01)\n",
        "model.compile(optimizer=optimizer,loss=\"categorical_crossentropy\",metrics=[\"accuracy\"])\n",
        "model.summary()"
      ],
      "execution_count": null,
      "outputs": [
        {
          "output_type": "stream",
          "name": "stdout",
          "text": [
            "Model: \"sequential\"\n",
            "_________________________________________________________________\n",
            "Layer (type)                 Output Shape              Param #   \n",
            "=================================================================\n",
            "conv2d (Conv2D)              (None, 126, 126, 32)      320       \n",
            "_________________________________________________________________\n",
            "max_pooling2d (MaxPooling2D) (None, 42, 42, 32)        0         \n",
            "_________________________________________________________________\n",
            "dropout (Dropout)            (None, 42, 42, 32)        0         \n",
            "_________________________________________________________________\n",
            "conv2d_1 (Conv2D)            (None, 42, 42, 64)        18496     \n",
            "_________________________________________________________________\n",
            "max_pooling2d_1 (MaxPooling2 (None, 21, 21, 64)        0         \n",
            "_________________________________________________________________\n",
            "dropout_1 (Dropout)          (None, 21, 21, 64)        0         \n",
            "_________________________________________________________________\n",
            "conv2d_2 (Conv2D)            (None, 21, 21, 128)       73856     \n",
            "_________________________________________________________________\n",
            "max_pooling2d_2 (MaxPooling2 (None, 10, 10, 128)       0         \n",
            "_________________________________________________________________\n",
            "dropout_2 (Dropout)          (None, 10, 10, 128)       0         \n",
            "_________________________________________________________________\n",
            "conv2d_3 (Conv2D)            (None, 10, 10, 128)       147584    \n",
            "_________________________________________________________________\n",
            "flatten (Flatten)            (None, 12800)             0         \n",
            "_________________________________________________________________\n",
            "dense (Dense)                (None, 500)               6400500   \n",
            "_________________________________________________________________\n",
            "dropout_3 (Dropout)          (None, 500)               0         \n",
            "_________________________________________________________________\n",
            "dense_1 (Dense)              (None, 120)               60120     \n",
            "=================================================================\n",
            "Total params: 6,700,876\n",
            "Trainable params: 6,700,876\n",
            "Non-trainable params: 0\n",
            "_________________________________________________________________\n"
          ]
        }
      ]
    },
    {
      "cell_type": "markdown",
      "metadata": {
        "id": "h6JJgGi8T3pV"
      },
      "source": [
        "Let's fit the model"
      ]
    },
    {
      "cell_type": "code",
      "metadata": {
        "colab": {
          "background_save": true,
          "base_uri": "https://localhost:8080/"
        },
        "id": "8e7-hJn3KzeE",
        "outputId": "b605b846-4c93-4071-d869-46acbbc2c0d2"
      },
      "source": [
        "model.fit(x_train,y_train,batch_size=128,epochs=20,validation_data=(x_val,y_val))"
      ],
      "execution_count": null,
      "outputs": [
        {
          "name": "stdout",
          "output_type": "stream",
          "text": [
            "Epoch 1/20\n",
            "64/64 [==============================] - 161s 2s/step - loss: 6.0802 - accuracy: 0.0106 - val_loss: 4.7880 - val_accuracy: 0.0083\n",
            "Epoch 2/20\n",
            "64/64 [==============================] - 158s 2s/step - loss: 4.7799 - accuracy: 0.0097 - val_loss: 4.7889 - val_accuracy: 0.0117\n",
            "Epoch 3/20\n",
            "64/64 [==============================] - 159s 2s/step - loss: 4.7784 - accuracy: 0.0120 - val_loss: 4.7896 - val_accuracy: 0.0117\n",
            "Epoch 4/20\n",
            "64/64 [==============================] - 161s 3s/step - loss: 4.7774 - accuracy: 0.0122 - val_loss: 4.7908 - val_accuracy: 0.0117\n",
            "Epoch 5/20\n",
            "64/64 [==============================] - 157s 2s/step - loss: 4.7774 - accuracy: 0.0109 - val_loss: 4.7919 - val_accuracy: 0.0117\n",
            "Epoch 6/20\n",
            "64/64 [==============================] - 156s 2s/step - loss: 4.7772 - accuracy: 0.0125 - val_loss: 4.7921 - val_accuracy: 0.0117\n",
            "Epoch 7/20\n",
            "64/64 [==============================] - 158s 2s/step - loss: 4.7771 - accuracy: 0.0100 - val_loss: 4.7934 - val_accuracy: 0.0088\n",
            "Epoch 8/20\n",
            "64/64 [==============================] - 160s 2s/step - loss: 4.7771 - accuracy: 0.0106 - val_loss: 4.7926 - val_accuracy: 0.0117\n",
            "Epoch 9/20\n",
            "64/64 [==============================] - 161s 3s/step - loss: 4.7770 - accuracy: 0.0125 - val_loss: 4.7928 - val_accuracy: 0.0117\n",
            "Epoch 10/20\n",
            "64/64 [==============================] - 160s 2s/step - loss: 4.7771 - accuracy: 0.0114 - val_loss: 4.7930 - val_accuracy: 0.0117\n",
            "Epoch 11/20\n",
            "64/64 [==============================] - 162s 3s/step - loss: 4.7770 - accuracy: 0.0115 - val_loss: 4.7933 - val_accuracy: 0.0117\n",
            "Epoch 12/20\n",
            "64/64 [==============================] - 163s 3s/step - loss: 4.7769 - accuracy: 0.0110 - val_loss: 4.7939 - val_accuracy: 0.0117\n",
            "Epoch 13/20\n",
            "64/64 [==============================] - 165s 3s/step - loss: 4.7773 - accuracy: 0.0125 - val_loss: 4.7934 - val_accuracy: 0.0117\n",
            "Epoch 14/20\n",
            "64/64 [==============================] - 161s 3s/step - loss: 4.7772 - accuracy: 0.0117 - val_loss: 4.7932 - val_accuracy: 0.0117\n",
            "Epoch 15/20\n",
            "64/64 [==============================] - 162s 3s/step - loss: 4.7771 - accuracy: 0.0125 - val_loss: 4.7931 - val_accuracy: 0.0117\n",
            "Epoch 16/20\n",
            "64/64 [==============================] - 160s 3s/step - loss: 4.7771 - accuracy: 0.0119 - val_loss: 4.7937 - val_accuracy: 0.0117\n",
            "Epoch 17/20\n",
            "64/64 [==============================] - 157s 2s/step - loss: 4.7767 - accuracy: 0.0125 - val_loss: 4.7933 - val_accuracy: 0.0117\n",
            "Epoch 18/20\n",
            "64/64 [==============================] - 157s 2s/step - loss: 4.7769 - accuracy: 0.0110 - val_loss: 4.7937 - val_accuracy: 0.0117\n",
            "Epoch 19/20\n",
            "64/64 [==============================] - 157s 2s/step - loss: 4.7768 - accuracy: 0.0125 - val_loss: 4.7940 - val_accuracy: 0.0117\n",
            "Epoch 20/20\n",
            "64/64 [==============================] - 157s 2s/step - loss: 4.7769 - accuracy: 0.0115 - val_loss: 4.7936 - val_accuracy: 0.0117\n"
          ]
        },
        {
          "data": {
            "text/plain": [
              "<keras.callbacks.History at 0x7f36ec613b90>"
            ]
          },
          "execution_count": null,
          "metadata": {},
          "output_type": "execute_result"
        }
      ]
    },
    {
      "cell_type": "markdown",
      "metadata": {
        "id": "hWTAkjA1ZbrZ"
      },
      "source": [
        "Let's now use Transfer Learning"
      ]
    },
    {
      "cell_type": "code",
      "metadata": {
        "id": "W9F6URQuUk5K"
      },
      "source": [
        "from keras.applications.vgg16 import VGG16,preprocess_input"
      ],
      "execution_count": null,
      "outputs": []
    },
    {
      "cell_type": "code",
      "metadata": {
        "colab": {
          "base_uri": "https://localhost:8080/"
        },
        "id": "0E4Iq9VfZqjw",
        "outputId": "7aee0f6b-7174-4e67-803c-1fbce1869725"
      },
      "source": [
        "base_model = VGG16(weights=(path+\"vgg16_weights_tf_dim_ordering_tf_kernels_notop.h5\"),include_top=False,pooling='avg')\n",
        "base_model.summary()"
      ],
      "execution_count": null,
      "outputs": [
        {
          "output_type": "stream",
          "name": "stdout",
          "text": [
            "Model: \"vgg16\"\n",
            "_________________________________________________________________\n",
            "Layer (type)                 Output Shape              Param #   \n",
            "=================================================================\n",
            "input_1 (InputLayer)         [(None, None, None, 3)]   0         \n",
            "_________________________________________________________________\n",
            "block1_conv1 (Conv2D)        (None, None, None, 64)    1792      \n",
            "_________________________________________________________________\n",
            "block1_conv2 (Conv2D)        (None, None, None, 64)    36928     \n",
            "_________________________________________________________________\n",
            "block1_pool (MaxPooling2D)   (None, None, None, 64)    0         \n",
            "_________________________________________________________________\n",
            "block2_conv1 (Conv2D)        (None, None, None, 128)   73856     \n",
            "_________________________________________________________________\n",
            "block2_conv2 (Conv2D)        (None, None, None, 128)   147584    \n",
            "_________________________________________________________________\n",
            "block2_pool (MaxPooling2D)   (None, None, None, 128)   0         \n",
            "_________________________________________________________________\n",
            "block3_conv1 (Conv2D)        (None, None, None, 256)   295168    \n",
            "_________________________________________________________________\n",
            "block3_conv2 (Conv2D)        (None, None, None, 256)   590080    \n",
            "_________________________________________________________________\n",
            "block3_conv3 (Conv2D)        (None, None, None, 256)   590080    \n",
            "_________________________________________________________________\n",
            "block3_pool (MaxPooling2D)   (None, None, None, 256)   0         \n",
            "_________________________________________________________________\n",
            "block4_conv1 (Conv2D)        (None, None, None, 512)   1180160   \n",
            "_________________________________________________________________\n",
            "block4_conv2 (Conv2D)        (None, None, None, 512)   2359808   \n",
            "_________________________________________________________________\n",
            "block4_conv3 (Conv2D)        (None, None, None, 512)   2359808   \n",
            "_________________________________________________________________\n",
            "block4_pool (MaxPooling2D)   (None, None, None, 512)   0         \n",
            "_________________________________________________________________\n",
            "block5_conv1 (Conv2D)        (None, None, None, 512)   2359808   \n",
            "_________________________________________________________________\n",
            "block5_conv2 (Conv2D)        (None, None, None, 512)   2359808   \n",
            "_________________________________________________________________\n",
            "block5_conv3 (Conv2D)        (None, None, None, 512)   2359808   \n",
            "_________________________________________________________________\n",
            "block5_pool (MaxPooling2D)   (None, None, None, 512)   0         \n",
            "_________________________________________________________________\n",
            "global_average_pooling2d (Gl (None, 512)               0         \n",
            "=================================================================\n",
            "Total params: 14,714,688\n",
            "Trainable params: 14,714,688\n",
            "Non-trainable params: 0\n",
            "_________________________________________________________________\n"
          ]
        }
      ]
    },
    {
      "cell_type": "markdown",
      "metadata": {
        "id": "hj7A0AzhdNtw"
      },
      "source": [
        "Let's import data once again"
      ]
    },
    {
      "cell_type": "code",
      "metadata": {
        "colab": {
          "base_uri": "https://localhost:8080/"
        },
        "id": "zKLrPVBObwPN",
        "outputId": "0bf13e5f-88db-46dd-bb0c-3d89fa9b3804"
      },
      "source": [
        "from tqdm import tqdm\n",
        "import cv2\n",
        "x_feature = []\n",
        "y_feature = []\n",
        "\n",
        "i = 0\n",
        "for f,img in tqdm(labels.values):\n",
        "  train_img = cv2.imread(\"./train/{}.jpg\".format(f),1)\n",
        "  label = y[i]\n",
        "  train_image_resize = cv2.resize(train_img,(128,128))\n",
        "  x_feature.append(train_image_resize)\n",
        "  y_feature.append(label)\n",
        "  i += 1"
      ],
      "execution_count": null,
      "outputs": [
        {
          "output_type": "stream",
          "name": "stderr",
          "text": [
            "100%|██████████| 10222/10222 [00:33<00:00, 307.57it/s]\n"
          ]
        }
      ]
    },
    {
      "cell_type": "code",
      "metadata": {
        "id": "ghrr3xMDdRLc"
      },
      "source": [
        "import tensorflow\n",
        "\n",
        "from tensorflow.keras.preprocessing import image"
      ],
      "execution_count": null,
      "outputs": []
    },
    {
      "cell_type": "code",
      "metadata": {
        "colab": {
          "base_uri": "https://localhost:8080/"
        },
        "id": "DOijhS1ffHoL",
        "outputId": "02139ef4-ded0-4963-d3f7-f7a649367762"
      },
      "source": [
        "X_arr = []\n",
        "\n",
        "for f,label in tqdm(labels.values):\n",
        "  X_arr.append(base_model.predict(preprocess_input(np.expand_dims(image.img_to_array(image.load_img('./train/'+f+'.jpg',target_size=[128,128])),axis=0)))[0])\n",
        "\n",
        "X = pd.DataFrame(X_arr)"
      ],
      "execution_count": null,
      "outputs": [
        {
          "output_type": "stream",
          "name": "stderr",
          "text": [
            "100%|██████████| 10222/10222 [38:44<00:00,  4.40it/s]\n"
          ]
        }
      ]
    },
    {
      "cell_type": "code",
      "metadata": {
        "id": "Pq10KazekZXo"
      },
      "source": [
        "X_train = X\n",
        "y_train = y_feature"
      ],
      "execution_count": null,
      "outputs": []
    },
    {
      "cell_type": "code",
      "metadata": {
        "id": "31R0DSCs26MT"
      },
      "source": [
        "from keras.layers import Activation\n",
        "model = Sequential([\n",
        "    Dense(1024, input_shape=(512,)),\n",
        "    Activation('relu'),\n",
        "    Dense(256, input_shape=(512,)),\n",
        "    Activation('relu'),\n",
        "    Dense(120),\n",
        "    Activation('softmax'),\n",
        "])\n",
        "\n",
        "model.compile(optimizer='adam',\n",
        "              loss='categorical_crossentropy',\n",
        "              metrics=['accuracy'])"
      ],
      "execution_count": null,
      "outputs": []
    },
    {
      "cell_type": "code",
      "metadata": {
        "colab": {
          "base_uri": "https://localhost:8080/"
        },
        "id": "eS_iW7kx3XCl",
        "outputId": "8be6aaa8-f80a-4ca4-84aa-61d5c4565dd3"
      },
      "source": [
        "model.fit(x=X_train,y=np.asarray(y_train),epochs=100,batch_size=100)"
      ],
      "execution_count": null,
      "outputs": [
        {
          "output_type": "stream",
          "name": "stdout",
          "text": [
            "Epoch 1/100\n",
            "103/103 [==============================] - 2s 15ms/step - loss: 4.3072 - accuracy: 0.1569\n",
            "Epoch 2/100\n",
            "103/103 [==============================] - 2s 15ms/step - loss: 2.1707 - accuracy: 0.4446\n",
            "Epoch 3/100\n",
            "103/103 [==============================] - 2s 15ms/step - loss: 1.5510 - accuracy: 0.5693\n",
            "Epoch 4/100\n",
            "103/103 [==============================] - 2s 15ms/step - loss: 1.1156 - accuracy: 0.6792\n",
            "Epoch 5/100\n",
            "103/103 [==============================] - 1s 15ms/step - loss: 0.7661 - accuracy: 0.7781\n",
            "Epoch 6/100\n",
            "103/103 [==============================] - 2s 15ms/step - loss: 0.4982 - accuracy: 0.8556\n",
            "Epoch 7/100\n",
            "103/103 [==============================] - 1s 14ms/step - loss: 0.3114 - accuracy: 0.9134\n",
            "Epoch 8/100\n",
            "103/103 [==============================] - 1s 14ms/step - loss: 0.1805 - accuracy: 0.9548\n",
            "Epoch 9/100\n",
            "103/103 [==============================] - 1s 14ms/step - loss: 0.1008 - accuracy: 0.9776\n",
            "Epoch 10/100\n",
            "103/103 [==============================] - 1s 14ms/step - loss: 0.0571 - accuracy: 0.9910\n",
            "Epoch 11/100\n",
            "103/103 [==============================] - 1s 14ms/step - loss: 0.0319 - accuracy: 0.9963\n",
            "Epoch 12/100\n",
            "103/103 [==============================] - 1s 14ms/step - loss: 0.0207 - accuracy: 0.9979\n",
            "Epoch 13/100\n",
            "103/103 [==============================] - 1s 14ms/step - loss: 0.0159 - accuracy: 0.9982\n",
            "Epoch 14/100\n",
            "103/103 [==============================] - 1s 14ms/step - loss: 0.0106 - accuracy: 0.9986\n",
            "Epoch 15/100\n",
            "103/103 [==============================] - 1s 14ms/step - loss: 0.0135 - accuracy: 0.9984\n",
            "Epoch 16/100\n",
            "103/103 [==============================] - 1s 14ms/step - loss: 0.0387 - accuracy: 0.9912\n",
            "Epoch 17/100\n",
            "103/103 [==============================] - 1s 14ms/step - loss: 0.4780 - accuracy: 0.8565\n",
            "Epoch 18/100\n",
            "103/103 [==============================] - 1s 14ms/step - loss: 0.5498 - accuracy: 0.8347\n",
            "Epoch 19/100\n",
            "103/103 [==============================] - 1s 14ms/step - loss: 0.2990 - accuracy: 0.9086\n",
            "Epoch 20/100\n",
            "103/103 [==============================] - 1s 14ms/step - loss: 0.1899 - accuracy: 0.9429\n",
            "Epoch 21/100\n",
            "103/103 [==============================] - 1s 14ms/step - loss: 0.1313 - accuracy: 0.9583\n",
            "Epoch 22/100\n",
            "103/103 [==============================] - 1s 14ms/step - loss: 0.1463 - accuracy: 0.9554\n",
            "Epoch 23/100\n",
            "103/103 [==============================] - 1s 14ms/step - loss: 0.0629 - accuracy: 0.9816\n",
            "Epoch 24/100\n",
            "103/103 [==============================] - 1s 14ms/step - loss: 0.0419 - accuracy: 0.9886\n",
            "Epoch 25/100\n",
            "103/103 [==============================] - 1s 14ms/step - loss: 0.0202 - accuracy: 0.9955\n",
            "Epoch 26/100\n",
            "103/103 [==============================] - 1s 14ms/step - loss: 0.0127 - accuracy: 0.9978\n",
            "Epoch 27/100\n",
            "103/103 [==============================] - 1s 14ms/step - loss: 0.0182 - accuracy: 0.9974\n",
            "Epoch 28/100\n",
            "103/103 [==============================] - 1s 14ms/step - loss: 0.0130 - accuracy: 0.9975\n",
            "Epoch 29/100\n",
            "103/103 [==============================] - 1s 14ms/step - loss: 0.0214 - accuracy: 0.9951\n",
            "Epoch 30/100\n",
            "103/103 [==============================] - 1s 14ms/step - loss: 0.0652 - accuracy: 0.9807\n",
            "Epoch 31/100\n",
            "103/103 [==============================] - 1s 14ms/step - loss: 0.1981 - accuracy: 0.9393\n",
            "Epoch 32/100\n",
            "103/103 [==============================] - 1s 14ms/step - loss: 0.3793 - accuracy: 0.8883\n",
            "Epoch 33/100\n",
            "103/103 [==============================] - 1s 14ms/step - loss: 0.2654 - accuracy: 0.9214\n",
            "Epoch 34/100\n",
            "103/103 [==============================] - 1s 14ms/step - loss: 0.1718 - accuracy: 0.9484\n",
            "Epoch 35/100\n",
            "103/103 [==============================] - 1s 14ms/step - loss: 0.1202 - accuracy: 0.9619\n",
            "Epoch 36/100\n",
            "103/103 [==============================] - 1s 14ms/step - loss: 0.0693 - accuracy: 0.9796\n",
            "Epoch 37/100\n",
            "103/103 [==============================] - 1s 14ms/step - loss: 0.0362 - accuracy: 0.9898\n",
            "Epoch 38/100\n",
            "103/103 [==============================] - 1s 14ms/step - loss: 0.0375 - accuracy: 0.9899\n",
            "Epoch 39/100\n",
            "103/103 [==============================] - 1s 14ms/step - loss: 0.0421 - accuracy: 0.9885\n",
            "Epoch 40/100\n",
            "103/103 [==============================] - 1s 14ms/step - loss: 0.0530 - accuracy: 0.9845\n",
            "Epoch 41/100\n",
            "103/103 [==============================] - 1s 14ms/step - loss: 0.0507 - accuracy: 0.9849\n",
            "Epoch 42/100\n",
            "103/103 [==============================] - 1s 14ms/step - loss: 0.0496 - accuracy: 0.9852\n",
            "Epoch 43/100\n",
            "103/103 [==============================] - 1s 14ms/step - loss: 0.0679 - accuracy: 0.9821\n",
            "Epoch 44/100\n",
            "103/103 [==============================] - 1s 14ms/step - loss: 0.0961 - accuracy: 0.9727\n",
            "Epoch 45/100\n",
            "103/103 [==============================] - 1s 14ms/step - loss: 0.1445 - accuracy: 0.9568\n",
            "Epoch 46/100\n",
            "103/103 [==============================] - 1s 14ms/step - loss: 0.2210 - accuracy: 0.9402\n",
            "Epoch 47/100\n",
            "103/103 [==============================] - 2s 15ms/step - loss: 0.1285 - accuracy: 0.9611\n",
            "Epoch 48/100\n",
            "103/103 [==============================] - 1s 14ms/step - loss: 0.0724 - accuracy: 0.9785\n",
            "Epoch 49/100\n",
            "103/103 [==============================] - 1s 14ms/step - loss: 0.0606 - accuracy: 0.9813\n",
            "Epoch 50/100\n",
            "103/103 [==============================] - 1s 14ms/step - loss: 0.0640 - accuracy: 0.9825\n",
            "Epoch 51/100\n",
            "103/103 [==============================] - 1s 14ms/step - loss: 0.0908 - accuracy: 0.9746\n",
            "Epoch 52/100\n",
            "103/103 [==============================] - 1s 14ms/step - loss: 0.0861 - accuracy: 0.9764\n",
            "Epoch 53/100\n",
            "103/103 [==============================] - 1s 14ms/step - loss: 0.0811 - accuracy: 0.9766\n",
            "Epoch 54/100\n",
            "103/103 [==============================] - 2s 15ms/step - loss: 0.0714 - accuracy: 0.9779\n",
            "Epoch 55/100\n",
            "103/103 [==============================] - 1s 14ms/step - loss: 0.0901 - accuracy: 0.9759\n",
            "Epoch 56/100\n",
            "103/103 [==============================] - 1s 14ms/step - loss: 0.1034 - accuracy: 0.9721\n",
            "Epoch 57/100\n",
            "103/103 [==============================] - 1s 14ms/step - loss: 0.1105 - accuracy: 0.9679\n",
            "Epoch 58/100\n",
            "103/103 [==============================] - 1s 14ms/step - loss: 0.1131 - accuracy: 0.9700\n",
            "Epoch 59/100\n",
            "103/103 [==============================] - 1s 14ms/step - loss: 0.1026 - accuracy: 0.9724\n",
            "Epoch 60/100\n",
            "103/103 [==============================] - 1s 14ms/step - loss: 0.0868 - accuracy: 0.9797\n",
            "Epoch 61/100\n",
            "103/103 [==============================] - 1s 14ms/step - loss: 0.0633 - accuracy: 0.9839\n",
            "Epoch 62/100\n",
            "103/103 [==============================] - 1s 14ms/step - loss: 0.0398 - accuracy: 0.9894\n",
            "Epoch 63/100\n",
            "103/103 [==============================] - 1s 14ms/step - loss: 0.0217 - accuracy: 0.9941\n",
            "Epoch 64/100\n",
            "103/103 [==============================] - 1s 14ms/step - loss: 0.0195 - accuracy: 0.9953\n",
            "Epoch 65/100\n",
            "103/103 [==============================] - 1s 15ms/step - loss: 0.0190 - accuracy: 0.9946\n",
            "Epoch 66/100\n",
            "103/103 [==============================] - 1s 14ms/step - loss: 0.0522 - accuracy: 0.9862\n",
            "Epoch 67/100\n",
            "103/103 [==============================] - 2s 15ms/step - loss: 0.0911 - accuracy: 0.9767\n",
            "Epoch 68/100\n",
            "103/103 [==============================] - 1s 15ms/step - loss: 0.1666 - accuracy: 0.9587\n",
            "Epoch 69/100\n",
            "103/103 [==============================] - 1s 14ms/step - loss: 0.1434 - accuracy: 0.9633\n",
            "Epoch 70/100\n",
            "103/103 [==============================] - 1s 14ms/step - loss: 0.1203 - accuracy: 0.9685\n",
            "Epoch 71/100\n",
            "103/103 [==============================] - 1s 14ms/step - loss: 0.1526 - accuracy: 0.9617\n",
            "Epoch 72/100\n",
            "103/103 [==============================] - 1s 14ms/step - loss: 0.1382 - accuracy: 0.9662\n",
            "Epoch 73/100\n",
            "103/103 [==============================] - 1s 14ms/step - loss: 0.0702 - accuracy: 0.9816\n",
            "Epoch 74/100\n",
            "103/103 [==============================] - 1s 14ms/step - loss: 0.0420 - accuracy: 0.9885\n",
            "Epoch 75/100\n",
            "103/103 [==============================] - 1s 14ms/step - loss: 0.0553 - accuracy: 0.9891\n",
            "Epoch 76/100\n",
            "103/103 [==============================] - 1s 14ms/step - loss: 0.0571 - accuracy: 0.9863\n",
            "Epoch 77/100\n",
            "103/103 [==============================] - 1s 14ms/step - loss: 0.0298 - accuracy: 0.9907\n",
            "Epoch 78/100\n",
            "103/103 [==============================] - 1s 14ms/step - loss: 0.0239 - accuracy: 0.9941\n",
            "Epoch 79/100\n",
            "103/103 [==============================] - 1s 14ms/step - loss: 0.0336 - accuracy: 0.9914\n",
            "Epoch 80/100\n",
            "103/103 [==============================] - 1s 14ms/step - loss: 0.0304 - accuracy: 0.9915\n",
            "Epoch 81/100\n",
            "103/103 [==============================] - 1s 15ms/step - loss: 0.0564 - accuracy: 0.9864\n",
            "Epoch 82/100\n",
            "103/103 [==============================] - 1s 14ms/step - loss: 0.0690 - accuracy: 0.9835\n",
            "Epoch 83/100\n",
            "103/103 [==============================] - 1s 14ms/step - loss: 0.0864 - accuracy: 0.9784\n",
            "Epoch 84/100\n",
            "103/103 [==============================] - 1s 14ms/step - loss: 0.1045 - accuracy: 0.9758\n",
            "Epoch 85/100\n",
            "103/103 [==============================] - 1s 15ms/step - loss: 0.1390 - accuracy: 0.9711\n",
            "Epoch 86/100\n",
            "103/103 [==============================] - 1s 15ms/step - loss: 0.1744 - accuracy: 0.9630\n",
            "Epoch 87/100\n",
            "103/103 [==============================] - 1s 14ms/step - loss: 0.1209 - accuracy: 0.9709\n",
            "Epoch 88/100\n",
            "103/103 [==============================] - 1s 14ms/step - loss: 0.1020 - accuracy: 0.9753\n",
            "Epoch 89/100\n",
            "103/103 [==============================] - 1s 15ms/step - loss: 0.0745 - accuracy: 0.9820\n",
            "Epoch 90/100\n",
            "103/103 [==============================] - 2s 15ms/step - loss: 0.0644 - accuracy: 0.9844\n",
            "Epoch 91/100\n",
            "103/103 [==============================] - 1s 14ms/step - loss: 0.0410 - accuracy: 0.9903\n",
            "Epoch 92/100\n",
            "103/103 [==============================] - 1s 14ms/step - loss: 0.0395 - accuracy: 0.9898\n",
            "Epoch 93/100\n",
            "103/103 [==============================] - 1s 15ms/step - loss: 0.0514 - accuracy: 0.9889\n",
            "Epoch 94/100\n",
            "103/103 [==============================] - 1s 14ms/step - loss: 0.0410 - accuracy: 0.9907\n",
            "Epoch 95/100\n",
            "103/103 [==============================] - 1s 14ms/step - loss: 0.0401 - accuracy: 0.9897\n",
            "Epoch 96/100\n",
            "103/103 [==============================] - 2s 15ms/step - loss: 0.0802 - accuracy: 0.9821\n",
            "Epoch 97/100\n",
            "103/103 [==============================] - 2s 15ms/step - loss: 0.1033 - accuracy: 0.9750\n",
            "Epoch 98/100\n",
            "103/103 [==============================] - 1s 14ms/step - loss: 0.1333 - accuracy: 0.9714\n",
            "Epoch 99/100\n",
            "103/103 [==============================] - 1s 14ms/step - loss: 0.0910 - accuracy: 0.9780\n",
            "Epoch 100/100\n",
            "103/103 [==============================] - 1s 14ms/step - loss: 0.0835 - accuracy: 0.9808\n"
          ]
        },
        {
          "output_type": "execute_result",
          "data": {
            "text/plain": [
              "<keras.callbacks.History at 0x7f870dc81e50>"
            ]
          },
          "metadata": {},
          "execution_count": 31
        }
      ]
    },
    {
      "cell_type": "code",
      "metadata": {
        "id": "Jvncf3073f9r"
      },
      "source": [
        ""
      ],
      "execution_count": null,
      "outputs": []
    }
  ]
}